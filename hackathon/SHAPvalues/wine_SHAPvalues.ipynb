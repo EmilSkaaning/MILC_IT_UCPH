{
 "cells": [
  {
   "cell_type": "code",
   "execution_count": 19,
   "metadata": {},
   "outputs": [],
   "source": [
    "import numpy as np\n",
    "import pandas as pd\n",
    "\n",
    "from sklearn.datasets import load_wine\n",
    "from sklearn import metrics\n",
    "from sklearn.preprocessing import StandardScaler\n",
    "from sklearn.model_selection import train_test_split, StratifiedKFold, cross_val_score, KFold\n",
    "from sklearn.utils import shuffle\n",
    "from sklearn.ensemble import RandomForestClassifier"
   ]
  },
  {
   "cell_type": "markdown",
   "metadata": {},
   "source": [
    "# Load and split data"
   ]
  },
  {
   "cell_type": "code",
   "execution_count": 47,
   "metadata": {},
   "outputs": [
    {
     "name": "stdout",
     "output_type": "stream",
     "text": [
      "(178, 14)\n"
     ]
    },
    {
     "data": {
      "text/html": [
       "<div>\n",
       "<style scoped>\n",
       "    .dataframe tbody tr th:only-of-type {\n",
       "        vertical-align: middle;\n",
       "    }\n",
       "\n",
       "    .dataframe tbody tr th {\n",
       "        vertical-align: top;\n",
       "    }\n",
       "\n",
       "    .dataframe thead th {\n",
       "        text-align: right;\n",
       "    }\n",
       "</style>\n",
       "<table border=\"1\" class=\"dataframe\">\n",
       "  <thead>\n",
       "    <tr style=\"text-align: right;\">\n",
       "      <th></th>\n",
       "      <th>alcohol</th>\n",
       "      <th>malic_acid</th>\n",
       "      <th>ash</th>\n",
       "      <th>alcalinity_of_ash</th>\n",
       "      <th>magnesium</th>\n",
       "      <th>total_phenols</th>\n",
       "      <th>flavanoids</th>\n",
       "      <th>nonflavanoid_phenols</th>\n",
       "      <th>proanthocyanins</th>\n",
       "      <th>color_intensity</th>\n",
       "      <th>hue</th>\n",
       "      <th>od280/od315_of_diluted_wines</th>\n",
       "      <th>proline</th>\n",
       "      <th>target</th>\n",
       "    </tr>\n",
       "  </thead>\n",
       "  <tbody>\n",
       "    <tr>\n",
       "      <th>0</th>\n",
       "      <td>14.23</td>\n",
       "      <td>1.71</td>\n",
       "      <td>2.43</td>\n",
       "      <td>15.6</td>\n",
       "      <td>127.0</td>\n",
       "      <td>2.80</td>\n",
       "      <td>3.06</td>\n",
       "      <td>0.28</td>\n",
       "      <td>2.29</td>\n",
       "      <td>5.64</td>\n",
       "      <td>1.04</td>\n",
       "      <td>3.92</td>\n",
       "      <td>1065.0</td>\n",
       "      <td>0</td>\n",
       "    </tr>\n",
       "    <tr>\n",
       "      <th>1</th>\n",
       "      <td>13.20</td>\n",
       "      <td>1.78</td>\n",
       "      <td>2.14</td>\n",
       "      <td>11.2</td>\n",
       "      <td>100.0</td>\n",
       "      <td>2.65</td>\n",
       "      <td>2.76</td>\n",
       "      <td>0.26</td>\n",
       "      <td>1.28</td>\n",
       "      <td>4.38</td>\n",
       "      <td>1.05</td>\n",
       "      <td>3.40</td>\n",
       "      <td>1050.0</td>\n",
       "      <td>0</td>\n",
       "    </tr>\n",
       "    <tr>\n",
       "      <th>2</th>\n",
       "      <td>13.16</td>\n",
       "      <td>2.36</td>\n",
       "      <td>2.67</td>\n",
       "      <td>18.6</td>\n",
       "      <td>101.0</td>\n",
       "      <td>2.80</td>\n",
       "      <td>3.24</td>\n",
       "      <td>0.30</td>\n",
       "      <td>2.81</td>\n",
       "      <td>5.68</td>\n",
       "      <td>1.03</td>\n",
       "      <td>3.17</td>\n",
       "      <td>1185.0</td>\n",
       "      <td>0</td>\n",
       "    </tr>\n",
       "    <tr>\n",
       "      <th>3</th>\n",
       "      <td>14.37</td>\n",
       "      <td>1.95</td>\n",
       "      <td>2.50</td>\n",
       "      <td>16.8</td>\n",
       "      <td>113.0</td>\n",
       "      <td>3.85</td>\n",
       "      <td>3.49</td>\n",
       "      <td>0.24</td>\n",
       "      <td>2.18</td>\n",
       "      <td>7.80</td>\n",
       "      <td>0.86</td>\n",
       "      <td>3.45</td>\n",
       "      <td>1480.0</td>\n",
       "      <td>0</td>\n",
       "    </tr>\n",
       "    <tr>\n",
       "      <th>4</th>\n",
       "      <td>13.24</td>\n",
       "      <td>2.59</td>\n",
       "      <td>2.87</td>\n",
       "      <td>21.0</td>\n",
       "      <td>118.0</td>\n",
       "      <td>2.80</td>\n",
       "      <td>2.69</td>\n",
       "      <td>0.39</td>\n",
       "      <td>1.82</td>\n",
       "      <td>4.32</td>\n",
       "      <td>1.04</td>\n",
       "      <td>2.93</td>\n",
       "      <td>735.0</td>\n",
       "      <td>0</td>\n",
       "    </tr>\n",
       "  </tbody>\n",
       "</table>\n",
       "</div>"
      ],
      "text/plain": [
       "   alcohol  malic_acid   ash  alcalinity_of_ash  magnesium  total_phenols  \\\n",
       "0    14.23        1.71  2.43               15.6      127.0           2.80   \n",
       "1    13.20        1.78  2.14               11.2      100.0           2.65   \n",
       "2    13.16        2.36  2.67               18.6      101.0           2.80   \n",
       "3    14.37        1.95  2.50               16.8      113.0           3.85   \n",
       "4    13.24        2.59  2.87               21.0      118.0           2.80   \n",
       "\n",
       "   flavanoids  nonflavanoid_phenols  proanthocyanins  color_intensity   hue  \\\n",
       "0        3.06                  0.28             2.29             5.64  1.04   \n",
       "1        2.76                  0.26             1.28             4.38  1.05   \n",
       "2        3.24                  0.30             2.81             5.68  1.03   \n",
       "3        3.49                  0.24             2.18             7.80  0.86   \n",
       "4        2.69                  0.39             1.82             4.32  1.04   \n",
       "\n",
       "   od280/od315_of_diluted_wines  proline  target  \n",
       "0                          3.92   1065.0       0  \n",
       "1                          3.40   1050.0       0  \n",
       "2                          3.17   1185.0       0  \n",
       "3                          3.45   1480.0       0  \n",
       "4                          2.93    735.0       0  "
      ]
     },
     "execution_count": 47,
     "metadata": {},
     "output_type": "execute_result"
    }
   ],
   "source": [
    "# sklearn data to pandas dataframe\n",
    "# X, y = load_wine(return_X_y=True)\n",
    "data = load_wine()\n",
    "df = pd.DataFrame(data.data, columns=data.feature_names)\n",
    "df['target'] = pd.Series(data.target)\n",
    "print(df.shape)\n",
    "df.head()"
   ]
  },
  {
   "cell_type": "code",
   "execution_count": 57,
   "metadata": {},
   "outputs": [
    {
     "name": "stdout",
     "output_type": "stream",
     "text": [
      "----DATA SET----\n",
      "Train  |  Test\n",
      "142    |   36\n"
     ]
    }
   ],
   "source": [
    "### Random training/test data split ###\n",
    "train_idx, test_idx = train_test_split(df.index.tolist(), test_size=0.2, random_state=42)\n",
    "\n",
    "X_train = []\n",
    "y_train = []\n",
    "X_test = []\n",
    "y_test = []\n",
    "\n",
    "for idx, row in df.iterrows():\n",
    "    if idx in train_idx:\n",
    "        X_train.append(df.iloc[idx][df.columns != 'target'].tolist())\n",
    "        y_train.append(int(df.iloc[idx]['target']))\n",
    "    else:\n",
    "        X_test.append(df.iloc[idx][df.columns != 'target'].tolist())\n",
    "        y_test.append(int(df.iloc[idx]['target']))\n",
    "\n",
    "print('----DATA SET----')\n",
    "print(f'Train \\t | \\t Test'.expandtabs(0))\n",
    "print(f'{len(X_train)} \\t | \\t {len(X_test)}'.expandtabs(2))"
   ]
  },
  {
   "cell_type": "markdown",
   "metadata": {},
   "source": [
    "# Train model"
   ]
  },
  {
   "cell_type": "code",
   "execution_count": null,
   "metadata": {},
   "outputs": [],
   "source": [
    "from sklearn.model_selection import cross_validate\n",
    "from sklearn.feature_selection import RFE\n",
    "\n",
    "model = RandomForestClassifier()\n",
    "cv_results = cross_validate(model, X_train, y_train, scoring='roc_auc_ovr', cv=10)\n",
    "print(f\"CV AUC w/o FS: {cv_results['test_score'].mean():.4}\")\n",
    "\n",
    "\n",
    "rfe = RFE(estimator=RandomForestClassifier(), n_features_to_select=3, step=1)\n",
    "cv_results = cross_validate(rfe, X_train, y_train, scoring='roc_auc_ovr', cv=10)\n",
    "print(f\"CV AUC w. FS: {cv_results['test_score'].mean():.4}\")"
   ]
  },
  {
   "cell_type": "code",
   "execution_count": null,
   "metadata": {},
   "outputs": [],
   "source": []
  },
  {
   "cell_type": "code",
   "execution_count": null,
   "metadata": {},
   "outputs": [],
   "source": []
  },
  {
   "cell_type": "code",
   "execution_count": 88,
   "metadata": {},
   "outputs": [
    {
     "name": "stdout",
     "output_type": "stream",
     "text": [
      "1. CV iteration Current AUC: 1.0000, Current Acc: 1.0000, Current MCC: 1.0000\n",
      "2. CV iteration Current AUC: 0.9965, Current Acc: 0.9655, Current MCC: 0.9495\n",
      "3. CV iteration Current AUC: 0.9982, Current Acc: 0.9643, Current MCC: 0.9481\n",
      "4. CV iteration Current AUC: 1.0000, Current Acc: 1.0000, Current MCC: 1.0000\n",
      "5. CV iteration Current AUC: 1.0000, Current Acc: 1.0000, Current MCC: 1.0000\n",
      "\n",
      "Mean AUC: 0.9989 +/- 0.0016  |  Best AUC: 1.0000\n",
      "Mean Acc: 0.9860 +/- 0.0192  |  Best Acc: 1.0000\n",
      "Mean MCC: 0.9795 +/- 0.0281  |  Best MCC: 1.0000\n"
     ]
    }
   ],
   "source": [
    "model = RandomForestClassifier()\n",
    "cv_folds = StratifiedKFold(n_splits=5, shuffle=True, random_state=42)\n",
    "\n",
    "X_train = np.asarray(X_train)\n",
    "y_train = np.asarray(y_train)\n",
    "\n",
    "i = 1\n",
    "auc = []\n",
    "acc = []\n",
    "mcc = []\n",
    "best_auc = 0.0\n",
    "best_acc = 0.0\n",
    "best_mcc = 0.0\n",
    "for train_index, val_index in cv_folds.split(X_train, y_train):\n",
    "    print(f'{i}. CV iteration', end =' '); i += 1\n",
    "\n",
    "    train_x, valid_x = X_train[train_index], X_train[val_index]\n",
    "    train_y, valid_y = y_train[train_index], y_train[val_index]\n",
    "\n",
    "    model.fit(train_x, train_y)\n",
    "\n",
    "    pred_proba = model.predict_proba(valid_x)\n",
    "    pred_labels = model.predict(valid_x)\n",
    "\n",
    "    auc.append(metrics.roc_auc_score(valid_y, pred_proba, multi_class='ovr'))\n",
    "    acc.append(metrics.accuracy_score(valid_y, pred_labels))\n",
    "    mcc.append(metrics.matthews_corrcoef(valid_y, pred_labels))\n",
    "    print(f'Current AUC: {auc[-1]:.4f}, Current Acc: {acc[-1]:.4f}, Current MCC: {mcc[-1]:.4f}')\n",
    "\n",
    "    if auc[-1] > best_auc:\n",
    "        best_auc = auc[-1]\n",
    "        best_model = model\n",
    "\n",
    "    if acc[-1] > best_acc:\n",
    "        best_acc = acc[-1]\n",
    "    \n",
    "    if mcc[-1] > best_mcc:\n",
    "        best_mcc = mcc[-1]\n",
    "\n",
    "print(f'\\nMean AUC: {np.mean(auc):.4f} +/- {np.std(auc, ddof=1):.4f}  |  Best AUC: {best_auc:.4f}')\n",
    "print(f'Mean Acc: {np.mean(acc):.4f} +/- {np.std(acc, ddof=1):.4f}  |  Best Acc: {best_acc:.4f}')\n",
    "print(f'Mean MCC: {np.mean(mcc):.4f} +/- {np.std(mcc, ddof=1):.4f}  |  Best MCC: {best_mcc:.4f}')"
   ]
  },
  {
   "cell_type": "markdown",
   "metadata": {},
   "source": [
    "# Final testing (only allowed in the end of the Hackathon)"
   ]
  },
  {
   "cell_type": "code",
   "execution_count": null,
   "metadata": {},
   "outputs": [],
   "source": [
    "print(f'----------------Testing classifier ----------------')\n",
    "X_test_pca = X_test\n",
    "Y_pred_proba = best_model.predict_proba(X_test_pca)\n",
    "print('Pred. AUC:', metrics.roc_auc_score(y_test, Y_pred_proba, multi_class='ovr'))\n",
    "Y_pred = best_model.predict(X_test_pca)\n",
    "print('Pred. Acc:', metrics.accuracy_score(y_test, Y_pred))\n",
    "print('Pred. MCC:', metrics.matthews_corrcoef(y_test, Y_pred))\n",
    "print('Confusion matrix:', metrics.confusion_matrix(y_test, Y_pred).ravel())\n",
    "print('Total sites:', len(y_test))"
   ]
  },
  {
   "cell_type": "code",
   "execution_count": null,
   "metadata": {},
   "outputs": [],
   "source": []
  },
  {
   "cell_type": "code",
   "execution_count": null,
   "metadata": {},
   "outputs": [],
   "source": []
  },
  {
   "cell_type": "code",
   "execution_count": null,
   "metadata": {},
   "outputs": [],
   "source": []
  }
 ],
 "metadata": {
  "interpreter": {
   "hash": "dc6e58325c6ca5dc494d447d9daf5aeca943c206985f3d32ddca24ddad3c3385"
  },
  "kernelspec": {
   "display_name": "Python 3.8.12 64-bit ('MLenv': conda)",
   "name": "python3"
  },
  "language_info": {
   "codemirror_mode": {
    "name": "ipython",
    "version": 3
   },
   "file_extension": ".py",
   "mimetype": "text/x-python",
   "name": "python",
   "nbconvert_exporter": "python",
   "pygments_lexer": "ipython3",
   "version": "3.8.12"
  },
  "orig_nbformat": 4
 },
 "nbformat": 4,
 "nbformat_minor": 2
}
